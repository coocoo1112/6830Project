{
 "cells": [
  {
   "cell_type": "code",
   "execution_count": 1,
   "metadata": {},
   "outputs": [
    {
     "name": "stdout",
     "output_type": "stream",
     "text": [
      "0.0\n",
      "Word2Vec(vocab=171557, size=100, alpha=0.025)\n"
     ]
    }
   ],
   "source": [
    "from gensim.models import Word2Vec\n",
    "from utils.utils import *\n",
    "model_dir = \"/data/pari/embeddings/word2vec/\"\n",
    "# model_name = model_dir + \"all_attributes.bin\"\n",
    "# model_name = model_dir + \"all_attributes_split_words.bin\"\n",
    "#name = \"preprocessed-words-model.bin\"\n",
    "#name = \"joined-tables-half.bin\"\n",
    "#model_name = model_dir + \"joined-correlated-2queries-test.bin\"\n",
    "#model_name = model_dir + \"joined-correlated-pair-splitwords.bin\"\n",
    "#model_name = model_dir + 'joined-correlated-pair-nosplit-exclude-the-exclude-nums.bin'\n",
    "\n",
    "# new ones: no pairs, no numbers,articles.\n",
    "#name = model_dir + \"all-w2v-nopairs25.bin\"\n",
    "#model_name = model_dir + \"all-fast-rs-nopairs.bin\"\n",
    "#model_name = model_dir + \"all-fast-rs-nopairs50.bin\"\n",
    "#name = \"all-fast-rs-nopairs100.bin\"\n",
    "name = \"new-wv-nopairs25.bin\"     # actually 100\n",
    "#name = \"new-ft-nopairs-25.bin\"\n",
    "#name = \"new-wv-nopairs-25.bin\"  \n",
    "#name = \"new-wv-nopairs-10.bin\"\n",
    "model_name = model_dir + name\n",
    "\n",
    "\n",
    "model = Word2Vec.load(model_name)\n",
    "wv = model.wv\n",
    "print(model.get_latest_training_loss())\n",
    "print(model)\n",
    "del model"
   ]
  },
  {
   "cell_type": "code",
   "execution_count": 2,
   "metadata": {},
   "outputs": [
    {
     "data": {
      "text/plain": [
       "72441"
      ]
     },
     "execution_count": 2,
     "metadata": {},
     "output_type": "execute_result"
    }
   ],
   "source": [
    "wv.vocab[\"action\"].count"
   ]
  },
  {
   "cell_type": "code",
   "execution_count": 3,
   "metadata": {},
   "outputs": [
    {
     "data": {
      "text/plain": [
       "[('drama', 0.8438701033592224),\n",
       " ('documentary', 0.7863892316818237),\n",
       " ('thriller', 0.7780347466468811),\n",
       " ('animation', 0.7565590739250183),\n",
       " ('comedy', 0.7488061785697937),\n",
       " ('crime', 0.7326347827911377),\n",
       " ('short', 0.7275511622428894),\n",
       " ('filmnoir', 0.7228716611862183),\n",
       " ('adventure', 0.7052582502365112),\n",
       " ('scifi', 0.699112057685852)]"
      ]
     },
     "execution_count": 3,
     "metadata": {},
     "output_type": "execute_result"
    }
   ],
   "source": [
    "wv.most_similar(\"romance\") "
   ]
  },
  {
   "cell_type": "code",
   "execution_count": null,
   "metadata": {},
   "outputs": [],
   "source": []
  },
  {
   "cell_type": "code",
   "execution_count": 4,
   "metadata": {},
   "outputs": [
    {
     "data": {
      "text/plain": [
       "[('scifi', 0.8051990866661072),\n",
       " ('thriller', 0.7964668273925781),\n",
       " ('drama', 0.7817749977111816),\n",
       " ('animation', 0.7673170566558838),\n",
       " ('documentary', 0.7568024396896362),\n",
       " ('realitytv', 0.7511429190635681),\n",
       " ('comedy', 0.7503104209899902),\n",
       " ('gameshow', 0.734253466129303),\n",
       " ('talkshow', 0.7234683036804199),\n",
       " ('fantasy', 0.7045588493347168)]"
      ]
     },
     "execution_count": 4,
     "metadata": {},
     "output_type": "execute_result"
    }
   ],
   "source": [
    "wv.most_similar(\"action\")"
   ]
  },
  {
   "cell_type": "code",
   "execution_count": 5,
   "metadata": {},
   "outputs": [
    {
     "data": {
      "text/plain": [
       "0.40112692"
      ]
     },
     "execution_count": 5,
     "metadata": {},
     "output_type": "execute_result"
    }
   ],
   "source": [
    "wv.similarity(\"france\", \"china\")"
   ]
  },
  {
   "cell_type": "code",
   "execution_count": 6,
   "metadata": {},
   "outputs": [
    {
     "data": {
      "text/plain": [
       "[('emmert', 0.5066908001899719),\n",
       " ('actress', 0.49277034401893616),\n",
       " ('aristoteles', 0.48341336846351624),\n",
       " ('w', 0.4699897766113281),\n",
       " ('lauriston', 0.44586876034736633),\n",
       " ('lysle', 0.4442909359931946),\n",
       " ('j6424', 0.4399229884147644),\n",
       " ('article', 0.4392872452735901),\n",
       " ('darrasar', 0.43747496604919434),\n",
       " ('whitner', 0.4358259439468384)]"
      ]
     },
     "execution_count": 6,
     "metadata": {},
     "output_type": "execute_result"
    }
   ],
   "source": [
    "wv.most_similar(positive=[\"actor\"])"
   ]
  },
  {
   "cell_type": "code",
   "execution_count": 7,
   "metadata": {},
   "outputs": [
    {
     "data": {
      "text/plain": [
       "-0.09880652"
      ]
     },
     "execution_count": 7,
     "metadata": {},
     "output_type": "execute_result"
    }
   ],
   "source": [
    "wv.similarity(\"french\", \"romance\")"
   ]
  },
  {
   "cell_type": "code",
   "execution_count": 8,
   "metadata": {},
   "outputs": [
    {
     "name": "stdout",
     "output_type": "stream",
     "text": [
      "marvelcomics, dccomics: 0.3311457335948944\n"
     ]
    }
   ],
   "source": [
    "SIMILARITY_PAIRS = [(\"marvelcomics\", \"dccomics\")]\n",
    "for w1, w2 in SIMILARITY_PAIRS:\n",
    "    print(\"{}, {}: {}\".format(w1, w2, wv.similarity(w1,w2)))"
   ]
  },
  {
   "cell_type": "code",
   "execution_count": 9,
   "metadata": {},
   "outputs": [
    {
     "name": "stdout",
     "output_type": "stream",
     "text": [
      "superhero: dc: 0.2662021219730377; marvel: 0.16246382892131805\n",
      "spider: dc: -0.00928658340126276; marvel: 0.014898912981152534\n",
      "avengers: dc: 0.07820577919483185; marvel: 0.3558606803417206\n",
      "spiderman: dc: 0.013260608538985252; marvel: 0.2693398892879486\n",
      "xmen: dc: 0.21635812520980835; marvel: 0.35335490107536316\n",
      "iron: dc: 0.07932401448488235; marvel: 0.040414903312921524\n",
      "ironman: dc: 0.04202188178896904; marvel: 0.1819353699684143\n",
      "ant: dc: -0.1658514440059662; marvel: 0.017679225653409958\n",
      "antman: dc: -0.166436105966568; marvel: 0.025725102052092552\n",
      "superman: dc: 0.18464313447475433; marvel: 0.09906060248613358\n",
      "batman: dc: 0.354338675737381; marvel: 0.20029811561107635\n",
      "dark: dc: 0.055569007992744446; marvel: 0.048043761402368546\n",
      "action: dc: 0.14195075631141663; marvel: 0.0982729122042656\n"
     ]
    }
   ],
   "source": [
    "# marvel vs dc comparison\n",
    "#COMP_WORDS = [\"lantern\", \"wonder\", \"titan\"]\n",
    "COMP_WORDS = [\"superhero\",\"spider\", \"avengers\",\"spiderman\", \"xmen\", \"iron\", \"ironman\", \"ant\", \"antman\", \"superman\", \"batman\", \"dark\", \"action\"]\n",
    "for w in COMP_WORDS:\n",
    "    try:\n",
    "        dc = wv.similarity(w, \"dccomics\")\n",
    "        marvel = wv.similarity(w, \"marvelcomics\")\n",
    "        print(\"{}: dc: {}; marvel: {}\".format(w, dc, marvel))\n",
    "    except:\n",
    "        continue\n"
   ]
  },
  {
   "cell_type": "code",
   "execution_count": 10,
   "metadata": {},
   "outputs": [
    {
     "name": "stdout",
     "output_type": "stream",
     "text": [
      "spiderman\n",
      "('spiderwoman', 0.7468003630638123)\n",
      "('subterranean', 0.726818859577179)\n",
      "('subterraneans', 0.6833423972129822)\n",
      "('spider', 0.5495921969413757)\n",
      "('spidermonkey', 0.527963399887085)\n",
      "marvelcomics\n",
      "('marvel', 0.6721770763397217)\n",
      "('marble', 0.6330289840698242)\n",
      "('marvelous', 0.605034589767456)\n",
      "('marvels', 0.5831180810928345)\n",
      "('mercenaries', 0.5689027309417725)\n",
      "dccomics\n",
      "('djinns', 0.6740334033966064)\n",
      "('digging', 0.5680866241455078)\n",
      "('deacons', 0.5417143106460571)\n",
      "('dashing', 0.5412412285804749)\n",
      "('disneys', 0.5282918810844421)\n"
     ]
    }
   ],
   "source": [
    "MOST_SIMILAR = [\"spiderman\", \"marvelcomics\", \"dccomics\"]\n",
    "for w in MOST_SIMILAR:\n",
    "    print(w)\n",
    "    most_similar = wv.most_similar(w)\n",
    "    for i in range(5):\n",
    "        print(most_similar[i])"
   ]
  },
  {
   "cell_type": "code",
   "execution_count": 11,
   "metadata": {},
   "outputs": [
    {
     "data": {
      "text/plain": [
       "[]"
      ]
     },
     "execution_count": 11,
     "metadata": {},
     "output_type": "execute_result"
    }
   ],
   "source": [
    "get_substr_words(wv.index2word, \"10,000\")"
   ]
  },
  {
   "cell_type": "code",
   "execution_count": 12,
   "metadata": {},
   "outputs": [
    {
     "data": {
      "text/plain": [
       "-0.12151334"
      ]
     },
     "execution_count": 12,
     "metadata": {},
     "output_type": "execute_result"
    }
   ],
   "source": [
    "wv.similarity(\"lantern\", \"dccomics\")"
   ]
  },
  {
   "cell_type": "code",
   "execution_count": 13,
   "metadata": {},
   "outputs": [
    {
     "data": {
      "text/plain": [
       "True"
      ]
     },
     "execution_count": 13,
     "metadata": {},
     "output_type": "execute_result"
    }
   ],
   "source": [
    "\"companies\" in wv"
   ]
  },
  {
   "cell_type": "code",
   "execution_count": 14,
   "metadata": {},
   "outputs": [
    {
     "data": {
      "text/plain": [
       "-0.043558825"
      ]
     },
     "execution_count": 14,
     "metadata": {},
     "output_type": "execute_result"
    }
   ],
   "source": [
    "wv.similarity(\"fox\",\"home\")"
   ]
  },
  {
   "cell_type": "code",
   "execution_count": 34,
   "metadata": {},
   "outputs": [
    {
     "data": {
      "text/plain": [
       "0.050618507"
      ]
     },
     "execution_count": 34,
     "metadata": {},
     "output_type": "execute_result"
    }
   ],
   "source": [
    "wv.similarity(\"love\", \"filmnoir\")"
   ]
  },
  {
   "cell_type": "code",
   "execution_count": 27,
   "metadata": {},
   "outputs": [
    {
     "data": {
      "text/plain": [
       "[('drama', 0.8438701033592224),\n",
       " ('documentary', 0.7863892316818237),\n",
       " ('thriller', 0.7780347466468811),\n",
       " ('animation', 0.7565590739250183),\n",
       " ('comedy', 0.7488061785697937),\n",
       " ('crime', 0.7326347827911377),\n",
       " ('short', 0.7275511622428894),\n",
       " ('filmnoir', 0.7228716611862183),\n",
       " ('adventure', 0.7052582502365112),\n",
       " ('scifi', 0.699112057685852)]"
      ]
     },
     "execution_count": 27,
     "metadata": {},
     "output_type": "execute_result"
    }
   ],
   "source": [
    "wv.most_similar(\"romance\")"
   ]
  },
  {
   "cell_type": "code",
   "execution_count": 46,
   "metadata": {},
   "outputs": [
    {
     "data": {
      "text/plain": [
       "0.21"
      ]
     },
     "execution_count": 46,
     "metadata": {},
     "output_type": "execute_result"
    }
   ],
   "source": [
    "round(wv.similarity(\"fight\", \"romance\"), 2)"
   ]
  },
  {
   "cell_type": "code",
   "execution_count": 58,
   "metadata": {
    "scrolled": true
   },
   "outputs": [
    {
     "name": "stdout",
     "output_type": "stream",
     "text": [
      "genius, romance: 0.15\n",
      "genius, action: 0.06\n",
      "genius, horror: 0.09\n",
      "genius, comedy: 0.13\n",
      "genius, scifi: 0.1\n",
      "screaming, romance: 0.13\n",
      "screaming, action: 0.11\n",
      "screaming, horror: 0.23\n",
      "screaming, comedy: 0.12\n",
      "screaming, scifi: 0.19\n",
      "dark, romance: 0.09\n",
      "dark, action: 0.17\n",
      "dark, horror: 0.23\n",
      "dark, comedy: 0.08\n",
      "dark, scifi: 0.17\n",
      "love, romance: 0.24\n",
      "love, action: 0.16\n",
      "love, horror: 0.09\n",
      "love, comedy: 0.12\n",
      "love, scifi: 0.05\n",
      "fight, romance: 0.21\n",
      "fight, action: 0.28\n",
      "fight, horror: 0.05\n",
      "fight, comedy: 0.06\n",
      "fight, scifi: 0.14\n",
      "funny, romance: 0.01\n",
      "funny, action: 0.08\n",
      "funny, horror: 0.2\n",
      "funny, comedy: 0.23\n",
      "funny, scifi: 0.14\n",
      "laugh, romance: 0.11\n",
      "laugh, action: 0.15\n",
      "laugh, horror: 0.07\n",
      "laugh, comedy: 0.18\n",
      "laugh, scifi: 0.02\n",
      "joke, romance: 0.23\n",
      "joke, action: 0.02\n",
      "joke, horror: 0.09\n",
      "joke, comedy: 0.23\n",
      "joke, scifi: 0.03\n"
     ]
    }
   ],
   "source": [
    "GENRES = [\"romance\", \"action\", \"horror\", \"comedy\", \"scifi\"]\n",
    "\n",
    "def genre_similarities(w1):\n",
    "    for w2 in GENRES:\n",
    "        sim = str(round(wv.similarity(w1,w2), 2))\n",
    "        print(\"{}, {}: {}\".format(w1, w2, sim))\n",
    "\n",
    "\n",
    "# keyword <--> genre similarities!\n",
    "#SIMILARITY_PAIRS = [(\"dark\", \"horror\"), (\"love\", \"romance\"),(\"love\", \"horror\"), (\"love\", \"action\"), (\"screaming\", \"romance\"), (\"screaming\", \"horror\"), (\"screaming\", \"action\"), (\"fight\", \"horror\"), (\"fight\", \"romance\"), (\"fight\", \"action\")]\n",
    "KEYWORDS = [\"genius\", \"screaming\",\"dark\", \"love\", \"fight\", \"funny\", \"laugh\", \"joke\"]\n",
    "for k in KEYWORDS:\n",
    "    genre_similarities(k)\n"
   ]
  },
  {
   "cell_type": "code",
   "execution_count": 74,
   "metadata": {},
   "outputs": [
    {
     "data": {
      "text/plain": [
       "0.54"
      ]
     },
     "execution_count": 74,
     "metadata": {},
     "output_type": "execute_result"
    }
   ],
   "source": [
    "round(wv.similarity(\"india\", \"france\"), 2)"
   ]
  },
  {
   "cell_type": "code",
   "execution_count": null,
   "metadata": {},
   "outputs": [],
   "source": []
  }
 ],
 "metadata": {
  "kernelspec": {
   "display_name": "Python 3",
   "language": "python",
   "name": "python3"
  },
  "language_info": {
   "codemirror_mode": {
    "name": "ipython",
    "version": 3
   },
   "file_extension": ".py",
   "mimetype": "text/x-python",
   "name": "python",
   "nbconvert_exporter": "python",
   "pygments_lexer": "ipython3",
   "version": "3.5.2"
  }
 },
 "nbformat": 4,
 "nbformat_minor": 2
}
